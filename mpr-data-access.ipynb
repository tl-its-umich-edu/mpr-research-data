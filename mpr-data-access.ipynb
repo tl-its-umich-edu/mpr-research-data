{
 "cells": [
  {
   "cell_type": "code",
   "execution_count": 1,
   "metadata": {},
   "outputs": [],
   "source": [
    "import json\n",
    "import pandas as pd\n",
    "import sqlalchemy as sql\n",
    "\n",
    "dbParams = json.load(open('../database-research_ro.json'))\n",
    "connectString = f'mysql+pymysql://{dbParams[\"USER\"]}:{dbParams[\"PASSWORD\"]}@{dbParams[\"HOST\"]}:{dbParams[\"PORT\"]}/{dbParams[\"NAME\"]}'\n",
    "engine = sql.create_engine(connectString)"
   ]
  },
  {
   "cell_type": "code",
   "execution_count": 2,
   "metadata": {},
   "outputs": [],
   "source": [
    "numberOfMonths = 4\n",
    "\n",
    "courseQuery = f'''\n",
    "SELECT\n",
    "  DISTINCT ca.course_id as id,\n",
    "  cc.name as name\n",
    "FROM\n",
    "  mwrite_peer_review.canvas_assignments ca\n",
    "LEFT JOIN mwrite_peer_review.canvas_courses cc ON\n",
    "  cc.id = ca.course_id\n",
    "WHERE\n",
    "  is_peer_review_assignment = 1\n",
    "  AND ca.due_date_utc BETWEEN NOW() - INTERVAL {numberOfMonths} MONTH AND NOW()\n",
    "ORDER BY\n",
    "  ca.due_date_utc DESC\n",
    "'''\n",
    "\n",
    "\n",
    "def courseFilter(courseDF):\n",
    "    courseIDList = []\n",
    "\n",
    "    for index,row in courseDF.iterrows():\n",
    "        if '22' in row['name']:\n",
    "            courseIDList.append(row['id'])\n",
    "\n",
    "    return courseIDList\n",
    "    \n",
    "def queryMaker(courseIDList, templateQuery = 'testQuery.sql'):\n",
    "    with open(templateQuery) as queryFile:\n",
    "        queryLines = ''.join(queryFile.readlines())\n",
    "\n",
    "    # startIndex = 0\n",
    "    # for index, line in enumerate(queryLines):\n",
    "    #     if line.startswith('SELECT'):\n",
    "    #         startIndex = index\n",
    "\n",
    "    courseIDString = ',\\n   '.join(map(str, courseIDList))+'\\n'\n",
    "\n",
    "    newQuery = queryLines.format(courseIDString)\n",
    "\n",
    "    return newQuery\n",
    "\n",
    "# def queryAsDictMaker(courseIDList, templateQuery = 'testQuery.sql'):\n",
    "#     return {str(courseID):queryMaker([courseID], templateQuery) for courseID in courseIDList}\n",
    "\n",
    "\n",
    "# def pullAndSaveQuery(saveName, query, engine, savePath='../TSVs/'):\n",
    "#     with engine.connect() as connection:   \n",
    "#         reviewDF = pd.read_sql(query, connection)\n",
    "    \n",
    "#     #print(saveName)\n",
    "#     #display(reviewDF)\n",
    "#     reviewDF.to_csv(savePath+saveName+'.tsv', sep=\"\\t\", quoting=3, quotechar=\"\", escapechar=\"\\\\\")\n",
    "    \n",
    "# def queryDictPullandQuery(queryDict, engine):\n",
    "#     for id,query in queryDict.items():\n",
    "#         pullAndSaveQuery(id,query,engine)\n",
    "\n",
    "def queryBulkPull(query, engine):\n",
    "    with engine.connect() as connection:   \n",
    "        reviewDF = pd.read_sql(query, connection)\n",
    "\n",
    "    return reviewDF\n",
    "\n",
    "\n",
    "def saveQueries(courseDF, reviewDF, savePath='../TSVs/'):\n",
    "    for _, row in courseDF.iterrows():\n",
    "        (courseID, courseName) = row\n",
    "        outputFilename = f'{courseID} - {courseName}.tsv'\n",
    "\n",
    "        saveDF = reviewDF[reviewDF['CourseID'] == courseID]\n",
    "        saveDF.to_csv(savePath+outputFilename, sep=\"\\t\", quoting=3, quotechar=\"\", escapechar=\"\\\\\")"
   ]
  },
  {
   "cell_type": "code",
   "execution_count": 3,
   "metadata": {},
   "outputs": [],
   "source": [
    "with engine.connect() as connection:\n",
    "    courseDF = pd.read_sql(courseQuery, connection)\n",
    "\n",
    "newQuery = queryMaker(courseDF['id'])\n",
    "\n",
    "reviewDF = queryBulkPull(newQuery, engine)\n",
    "\n",
    "saveQueries(courseDF, reviewDF)"
   ]
  },
  {
   "cell_type": "code",
   "execution_count": null,
   "metadata": {},
   "outputs": [],
   "source": []
  }
 ],
 "metadata": {
  "interpreter": {
   "hash": "d03431f3a5fa3ebbe526f28a8426c7464083ea3d631f50fd64b38799a26867ee"
  },
  "kernelspec": {
   "display_name": "Python 3.10.4 ('dasenv')",
   "language": "python",
   "name": "python3"
  },
  "language_info": {
   "codemirror_mode": {
    "name": "ipython",
    "version": 3
   },
   "file_extension": ".py",
   "mimetype": "text/x-python",
   "name": "python",
   "nbconvert_exporter": "python",
   "pygments_lexer": "ipython3",
   "version": "3.10.4"
  },
  "orig_nbformat": 4
 },
 "nbformat": 4,
 "nbformat_minor": 2
}
